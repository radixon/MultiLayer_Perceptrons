{
 "cells": [
  {
   "cell_type": "markdown",
   "id": "fba47fe1-681e-461f-afbb-a72d3582bf13",
   "metadata": {},
   "source": [
    "# XNOR\n",
    "XNOR is the NOT(XOR)"
   ]
  },
  {
   "cell_type": "code",
   "execution_count": 1,
   "id": "341e9f33-550e-44af-8df4-6aac684b35ed",
   "metadata": {},
   "outputs": [
    {
     "data": {
      "text/plain": [
       "tensor([[1.0000e+00],\n",
       "        [7.7486e-07],\n",
       "        [8.3447e-07],\n",
       "        [1.0000e+00]], grad_fn=<ReluBackward0>)"
      ]
     },
     "execution_count": 1,
     "metadata": {},
     "output_type": "execute_result"
    }
   ],
   "source": [
    "import torch \n",
    "import torch.nn as nn \n",
    "import torch.nn.functional as F \n",
    "import torch.optim as optim \n",
    "\n",
    "X = torch.Tensor([ [0, 0], [0, 1], [1, 0], [1, 1] ]) \n",
    "Y = torch.Tensor([ [1], [0], [0], [1] ]) \n",
    "\n",
    "class XNOR(nn.Module): \n",
    "    def __init__(self): \n",
    "        super(XNOR, self).__init__() \n",
    "        self.lin1 = nn.Linear(2, 3, True) \n",
    "        self.lin2 = nn.Linear(3, 1, True) \n",
    "    \n",
    "    def forward(self, x): \n",
    "        x = self.lin1(x) \n",
    "        x = F.relu(x) \n",
    "        x = self.lin2(x) \n",
    "        return x \n",
    "\n",
    "model = XNOR() \n",
    "\n",
    "loss_func = nn.MSELoss() \n",
    "optimizer = optim.SGD(model.parameters(), lr=0.01,momentum=0.75) \n",
    "\n",
    "epochs = 5001 \n",
    "for idx in range(0, epochs): \n",
    "    for x,y in zip(X,Y): \n",
    "        optimizer.zero_grad() # Zero the gradient buffers \n",
    "        y_hat = model(x) # Make predictions \n",
    "        loss = loss_func(y_hat, y) # Compute the loss \n",
    "        loss.backward() # Compute the gradients \n",
    "        optimizer.step() # Does the update \n",
    "\n",
    "model(X).relu()"
   ]
  },
  {
   "cell_type": "code",
   "execution_count": null,
   "id": "ddac2e37-9e31-4806-a8f4-6cf8c99724d3",
   "metadata": {},
   "outputs": [],
   "source": []
  }
 ],
 "metadata": {
  "kernelspec": {
   "display_name": "Python 3 (ipykernel)",
   "language": "python",
   "name": "python3"
  },
  "language_info": {
   "codemirror_mode": {
    "name": "ipython",
    "version": 3
   },
   "file_extension": ".py",
   "mimetype": "text/x-python",
   "name": "python",
   "nbconvert_exporter": "python",
   "pygments_lexer": "ipython3",
   "version": "3.9.12"
  }
 },
 "nbformat": 4,
 "nbformat_minor": 5
}
