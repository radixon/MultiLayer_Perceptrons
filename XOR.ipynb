{
 "cells": [
  {
   "cell_type": "markdown",
   "id": "1bd3dc52-1ae4-483b-bd40-cd55af3b75ad",
   "metadata": {},
   "source": [
    "# XOR\n",
    "XOR refrences the exclusive OR function found in digital logic"
   ]
  },
  {
   "cell_type": "code",
   "execution_count": 1,
   "id": "367a005f-4e84-4e10-a221-f91965aab418",
   "metadata": {},
   "outputs": [],
   "source": [
    "import torch \n",
    "import torch.nn as nn \n",
    "import torch.nn.functional as F \n",
    "import torch.optim as optim "
   ]
  },
  {
   "cell_type": "code",
   "execution_count": 2,
   "id": "291fe39a-0e7c-41be-8090-2ec238eda390",
   "metadata": {},
   "outputs": [
    {
     "name": "stdout",
     "output_type": "stream",
     "text": [
      "tensor([[0., 0.],\n",
      "        [0., 1.],\n",
      "        [1., 0.],\n",
      "        [1., 1.]])\n",
      "tensor([[0.],\n",
      "        [1.],\n",
      "        [1.],\n",
      "        [0.]])\n"
     ]
    }
   ],
   "source": [
    "X = torch.Tensor([ [0, 0], [0, 1], [1, 0], [1, 1] ]) \n",
    "Y = torch.Tensor([ [0], [1], [1], [0] ]) \n",
    "\n",
    "print(X) \n",
    "print(Y)"
   ]
  },
  {
   "cell_type": "code",
   "execution_count": 3,
   "id": "7211be5b-82b1-4cb5-aac0-2ddd12c19244",
   "metadata": {},
   "outputs": [],
   "source": [
    "class XOR(nn.Module): \n",
    "    def __init__(self): \n",
    "        super(XOR, self).__init__() \n",
    "        self.lin1 = nn.Linear(2, 3, True) \n",
    "        self.lin2 = nn.Linear(3, 1, True) \n",
    "        \n",
    "    def forward(self, x): \n",
    "        x = self.lin1(x) \n",
    "        x = F.relu(x) \n",
    "        x = self.lin2(x) \n",
    "        return x"
   ]
  },
  {
   "cell_type": "code",
   "execution_count": 4,
   "id": "b794ce11-08bf-4f97-bbcb-64bf7fe9b641",
   "metadata": {},
   "outputs": [],
   "source": [
    "model = XOR()"
   ]
  },
  {
   "cell_type": "code",
   "execution_count": 5,
   "id": "909ce6d8-276a-4463-9a8d-1599cf838c10",
   "metadata": {},
   "outputs": [],
   "source": [
    "loss_func = nn.MSELoss() \n",
    "optimizer = optim.SGD(model.parameters(), lr=0.01,momentum=0.35)"
   ]
  },
  {
   "cell_type": "code",
   "execution_count": 6,
   "id": "2cb6fb13-21f7-443a-82e6-465bbc8d7d2a",
   "metadata": {},
   "outputs": [],
   "source": [
    "epochs = 1000 \n",
    "for idx in range(epochs): \n",
    "    for x,y in zip(X,Y): \n",
    "        optimizer.zero_grad()      # Zero the gradient buffers \n",
    "        y_hat = model(x)           # Make predictions \n",
    "        loss = loss_func(y_hat, y) # Compute the loss \n",
    "        loss.backward()            # Compute the gradients \n",
    "        optimizer.step()           # Does the update"
   ]
  },
  {
   "cell_type": "code",
   "execution_count": 7,
   "id": "2fd9dfdb-33b7-4cfd-8e61-7be497fc5afd",
   "metadata": {},
   "outputs": [
    {
     "data": {
      "text/plain": [
       "tensor([[1.3411e-06],\n",
       "        [1.0000e+00],\n",
       "        [1.0000e+00],\n",
       "        [9.8348e-07]], grad_fn=<ReluBackward0>)"
      ]
     },
     "execution_count": 7,
     "metadata": {},
     "output_type": "execute_result"
    }
   ],
   "source": [
    "model(X).relu()"
   ]
  },
  {
   "cell_type": "code",
   "execution_count": null,
   "id": "1ed478ad-59a6-41cb-a301-76159f71ebf1",
   "metadata": {},
   "outputs": [],
   "source": []
  }
 ],
 "metadata": {
  "kernelspec": {
   "display_name": "Python 3 (ipykernel)",
   "language": "python",
   "name": "python3"
  },
  "language_info": {
   "codemirror_mode": {
    "name": "ipython",
    "version": 3
   },
   "file_extension": ".py",
   "mimetype": "text/x-python",
   "name": "python",
   "nbconvert_exporter": "python",
   "pygments_lexer": "ipython3",
   "version": "3.9.12"
  }
 },
 "nbformat": 4,
 "nbformat_minor": 5
}
